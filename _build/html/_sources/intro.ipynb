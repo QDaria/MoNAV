{
 "cells": [
  {
   "cell_type": "markdown",
   "id": "f7a5c8f6",
   "metadata": {},
   "source": [
    "# Welcome to your Jupyter Book\n",
    "\n",
    "\n",
    "## Quickly add YAML metadata for MyST Notebooks\n",
    "\n",
    "If you have a markdown file and you'd like to quickly add YAML metadata to it, so that Jupyter Book will treat it as a MyST Markdown Notebook, run the following command:"
   ]
  },
  {
   "cell_type": "code",
   "execution_count": null,
   "id": "d165bc2d",
   "metadata": {},
   "outputs": [],
   "source": [
    "jupyter-book myst init path/to/markdownfile.md"
   ]
  },
  {
   "cell_type": "markdown",
   "id": "15f907b4",
   "metadata": {},
   "source": [
    "---\n",
    "substitutions:\n",
    "  key1: \"I'm a **substitution**\"\n",
    "  key2: |\n",
    "    ```{note}\n",
    "    {{ key1 }}\n",
    "    ```\n",
    "  fishy: |\n",
    "    ```{image} img/fun-fish.png\n",
    "    :alt: fishy\n",
    "    :width: 200px\n",
    "    ```\n",
    "---\n",
    "\n",
    "[the Jupyter Book documentation](https://jupyterbook.org) \n",
    "\n",
    "```{tableofcontents}\n",
    "```"
   ]
  }
 ],
 "metadata": {
  "jupytext": {
   "formats": "md:myst",
   "text_representation": {
    "extension": ".md",
    "format_name": "myst"
   }
  },
  "kernelspec": {
   "display_name": "Python 3",
   "language": "python",
   "name": "python3"
  },
  "source_map": [
   11,
   20,
   22
  ]
 },
 "nbformat": 4,
 "nbformat_minor": 5
}
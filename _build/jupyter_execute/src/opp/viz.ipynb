{
 "cells": [
  {
   "cell_type": "markdown",
   "id": "4084e8d9-04b7-486d-a0ce-1203d9f98c20",
   "metadata": {},
   "source": [
    "# Visualisation Tools & Techniques"
   ]
  },
  {
   "cell_type": "markdown",
   "id": "6ae74b26-bd05-4c05-8a60-467d40c7869d",
   "metadata": {},
   "source": [
    "# Dashboarding"
   ]
  },
  {
   "cell_type": "markdown",
   "id": "13cf9264-9a07-4748-a295-0220810f5b20",
   "metadata": {},
   "source": [
    "# MLOps"
   ]
  },
  {
   "cell_type": "markdown",
   "id": "db994d13-48eb-4e52-a4c8-4e27ebd7684a",
   "metadata": {},
   "source": [
    "# Exploratory Data Analysis (EDA) Tools"
   ]
  },
  {
   "cell_type": "code",
   "execution_count": null,
   "id": "3d54ceb2-8020-44cc-aa68-69aea5847025",
   "metadata": {},
   "outputs": [],
   "source": []
  }
 ],
 "metadata": {
  "environment": {
   "kernel": "python3",
   "name": "common-cpu.m95",
   "type": "gcloud",
   "uri": "gcr.io/deeplearning-platform-release/base-cpu:m95"
  },
  "kernelspec": {
   "display_name": "Python 3 (ipykernel)",
   "language": "python",
   "name": "python3"
  },
  "language_info": {
   "codemirror_mode": {
    "name": "ipython",
    "version": 3
   },
   "file_extension": ".py",
   "mimetype": "text/x-python",
   "name": "python",
   "nbconvert_exporter": "python",
   "pygments_lexer": "ipython3",
   "version": "3.10.4"
  }
 },
 "nbformat": 4,
 "nbformat_minor": 5
}
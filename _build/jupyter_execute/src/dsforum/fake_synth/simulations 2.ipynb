{
 "cells": [
  {
   "cell_type": "markdown",
   "id": "1fc65cfa-f5ca-4feb-bc53-186947e4b881",
   "metadata": {},
   "source": [
    "# Simulasjoner"
   ]
  },
  {
   "cell_type": "code",
   "execution_count": null,
   "id": "b14fdd88-4046-414d-a5f6-502310045ad8",
   "metadata": {},
   "outputs": [],
   "source": []
  }
 ],
 "metadata": {
  "environment": {
   "kernel": "python3",
   "name": "common-cpu.m95",
   "type": "gcloud",
   "uri": "gcr.io/deeplearning-platform-release/base-cpu:m95"
  },
  "kernelspec": {
   "display_name": "Python 3 (ipykernel)",
   "language": "python",
   "name": "python3"
  },
  "language_info": {
   "codemirror_mode": {
    "name": "ipython",
    "version": 3
   },
   "file_extension": ".py",
   "mimetype": "text/x-python",
   "name": "python",
   "nbconvert_exporter": "python",
   "pygments_lexer": "ipython3",
   "version": "3.7.12"
  }
 },
 "nbformat": 4,
 "nbformat_minor": 5
}
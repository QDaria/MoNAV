{
 "cells": [
  {
   "cell_type": "markdown",
   "id": "f44cb0af-de0a-4c3e-96cc-1ede1468e289",
   "metadata": {},
   "source": [
    "# Fake"
   ]
  },
  {
   "cell_type": "code",
   "execution_count": null,
   "id": "914f9e09-d704-4ed8-bd47-2c5c4d22482f",
   "metadata": {},
   "outputs": [],
   "source": []
  }
 ],
 "metadata": {
  "environment": {
   "kernel": "python3",
   "name": "common-cpu.m95",
   "type": "gcloud",
   "uri": "gcr.io/deeplearning-platform-release/base-cpu:m95"
  },
  "kernelspec": {
   "display_name": "Python 3 (ipykernel)",
   "language": "python",
   "name": "python3"
  },
  "language_info": {
   "codemirror_mode": {
    "name": "ipython",
    "version": 3
   },
   "file_extension": ".py",
   "mimetype": "text/x-python",
   "name": "python",
   "nbconvert_exporter": "python",
   "pygments_lexer": "ipython3",
   "version": "3.7.12"
  }
 },
 "nbformat": 4,
 "nbformat_minor": 5
}
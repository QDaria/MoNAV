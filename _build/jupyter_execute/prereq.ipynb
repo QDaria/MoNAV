{
 "cells": [
  {
   "cell_type": "markdown",
   "id": "a2ee428c",
   "metadata": {},
   "source": [
    "#  EffektTeam Effekt\n",
    "\n",
    "Some **Team Effekt**!"
   ]
  },
  {
   "cell_type": "code",
   "execution_count": 1,
   "id": "38ab6706",
   "metadata": {
    "tags": [
     "mytag"
    ]
   },
   "outputs": [
    {
     "name": "stdout",
     "output_type": "stream",
     "text": [
      "A python cell\n"
     ]
    }
   ],
   "source": [
    "print(\"A python cell\")"
   ]
  },
  {
   "cell_type": "markdown",
   "id": "c56b1cf2",
   "metadata": {},
   "source": [
    "## A section\n",
    "\n",
    "And some more Markdown...\n",
    "# Prerequisites \n",
    "[jb](https://jupyterbook.org)\n",
    "\n",
    "[openml](https://www.openml.org/)\n",
    "---"
   ]
  }
 ],
 "metadata": {
  "jupytext": {
   "formats": "md:myst",
   "text_representation": {
    "extension": ".md",
    "format_name": "myst"
   }
  },
  "kernelspec": {
   "display_name": "Python 3",
   "language": "python",
   "name": "python3"
  },
  "language_info": {
   "codemirror_mode": {
    "name": "ipython",
    "version": 3
   },
   "file_extension": ".py",
   "mimetype": "text/x-python",
   "name": "python",
   "nbconvert_exporter": "python",
   "pygments_lexer": "ipython3",
   "version": "3.10.4"
  },
  "source_map": [
   11,
   17,
   21
  ]
 },
 "nbformat": 4,
 "nbformat_minor": 5
}
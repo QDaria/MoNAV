{
 "cells": [
  {
   "cell_type": "markdown",
   "id": "728b15b8-09a1-4e1d-80c0-58690c50a235",
   "metadata": {},
   "source": [
    "# Ventetid"
   ]
  },
  {
   "cell_type": "code",
   "execution_count": null,
   "id": "8aed0f9c-f673-4b99-999b-a06cefc35584",
   "metadata": {},
   "outputs": [],
   "source": []
  }
 ],
 "metadata": {
  "environment": {
   "kernel": "python3",
   "name": "common-cpu.m95",
   "type": "gcloud",
   "uri": "gcr.io/deeplearning-platform-release/base-cpu:m95"
  },
  "kernelspec": {
   "display_name": "Python 3 (ipykernel)",
   "language": "python",
   "name": "python3"
  },
  "language_info": {
   "codemirror_mode": {
    "name": "ipython",
    "version": 3
   },
   "file_extension": ".py",
   "mimetype": "text/x-python",
   "name": "python",
   "nbconvert_exporter": "python",
   "pygments_lexer": "ipython3",
   "version": "3.7.12"
  }
 },
 "nbformat": 4,
 "nbformat_minor": 5
}

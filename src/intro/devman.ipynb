{
 "cells": [
  {
   "cell_type": "markdown",
   "id": "dd094887-4d5c-414a-acbc-6ebaf62798de",
   "metadata": {},
   "source": [
    "# Environment, Dependency and Package Management"
   ]
  },
  {
   "cell_type": "code",
   "execution_count": null,
   "id": "55b2912c-15d4-44f7-b8e8-ca4c8c4d5dde",
   "metadata": {},
   "outputs": [],
   "source": []
  }
 ],
 "metadata": {
  "environment": {
   "kernel": "python3",
   "name": "common-cpu.m95",
   "type": "gcloud",
   "uri": "gcr.io/deeplearning-platform-release/base-cpu:m95"
  },
  "kernelspec": {
   "display_name": "Python 3 (ipykernel)",
   "language": "python",
   "name": "python3"
  },
  "language_info": {
   "codemirror_mode": {
    "name": "ipython",
    "version": 3
   },
   "file_extension": ".py",
   "mimetype": "text/x-python",
   "name": "python",
   "nbconvert_exporter": "python",
   "pygments_lexer": "ipython3",
   "version": "3.7.12"
  }
 },
 "nbformat": 4,
 "nbformat_minor": 5
}

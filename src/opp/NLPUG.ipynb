{
 "cells": [
  {
   "cell_type": "markdown",
   "id": "70d9177a-6889-4a69-8fff-dc0a3acdb3d6",
   "metadata": {},
   "source": [
    "# NLP, NLU, NLG"
   ]
  },
  {
   "cell_type": "code",
   "execution_count": null,
   "id": "a3b75596-db7d-4086-8fce-948d11d8fbed",
   "metadata": {},
   "outputs": [],
   "source": []
  }
 ],
 "metadata": {
  "environment": {
   "kernel": "python3",
   "name": "common-cpu.m95",
   "type": "gcloud",
   "uri": "gcr.io/deeplearning-platform-release/base-cpu:m95"
  },
  "kernelspec": {
   "display_name": "Python 3 (ipykernel)",
   "language": "python",
   "name": "python3"
  },
  "language_info": {
   "codemirror_mode": {
    "name": "ipython",
    "version": 3
   },
   "file_extension": ".py",
   "mimetype": "text/x-python",
   "name": "python",
   "nbconvert_exporter": "python",
   "pygments_lexer": "ipython3",
   "version": "3.7.12"
  }
 },
 "nbformat": 4,
 "nbformat_minor": 5
}

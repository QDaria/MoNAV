{
 "cells": [
  {
   "cell_type": "markdown",
   "id": "9cbbb5f9-6a4e-43af-8773-7c47362b12d1",
   "metadata": {},
   "source": [
    "# Pydbgen"
   ]
  },
  {
   "cell_type": "code",
   "execution_count": 2,
   "id": "5f563481-2521-44f3-b3e7-f9c03047aa19",
   "metadata": {},
   "outputs": [
    {
     "ename": "AttributeError",
     "evalue": "module 'pydbgen' has no attribute 'pydb'",
     "output_type": "error",
     "traceback": [
      "\u001b[0;31m---------------------------------------------------------------------------\u001b[0m",
      "\u001b[0;31mAttributeError\u001b[0m                            Traceback (most recent call last)",
      "Input \u001b[0;32mIn [2]\u001b[0m, in \u001b[0;36m<cell line: 2>\u001b[0;34m()\u001b[0m\n\u001b[1;32m      1\u001b[0m \u001b[38;5;28;01mimport\u001b[39;00m \u001b[38;5;21;01mpydbgen\u001b[39;00m\n\u001b[0;32m----> 2\u001b[0m myDB \u001b[38;5;241m=\u001b[39m \u001b[43mpydbgen\u001b[49m\u001b[38;5;241;43m.\u001b[39;49m\u001b[43mpydb\u001b[49m()\n",
      "\u001b[0;31mAttributeError\u001b[0m: module 'pydbgen' has no attribute 'pydb'"
     ]
    }
   ],
   "source": [
    "import pydbgen\n",
    "myDB = pydbgen.pydb()"
   ]
  },
  {
   "cell_type": "code",
   "execution_count": 3,
   "id": "74d1a60a-18d7-4743-a0b7-89aae2c0369c",
   "metadata": {},
   "outputs": [
    {
     "ename": "ImportError",
     "evalue": "cannot import name 'pydb' from 'pydbgen' (unknown location)",
     "output_type": "error",
     "traceback": [
      "\u001b[0;31m---------------------------------------------------------------------------\u001b[0m",
      "\u001b[0;31mImportError\u001b[0m                               Traceback (most recent call last)",
      "Input \u001b[0;32mIn [3]\u001b[0m, in \u001b[0;36m<cell line: 1>\u001b[0;34m()\u001b[0m\n\u001b[0;32m----> 1\u001b[0m \u001b[38;5;28;01mfrom\u001b[39;00m \u001b[38;5;21;01mpydbgen\u001b[39;00m \u001b[38;5;28;01mimport\u001b[39;00m pydb\n",
      "\u001b[0;31mImportError\u001b[0m: cannot import name 'pydb' from 'pydbgen' (unknown location)"
     ]
    }
   ],
   "source": [
    "from pydbgen import pydb"
   ]
  },
  {
   "cell_type": "code",
   "execution_count": 4,
   "id": "1c027d79-3fa3-4fee-93a0-a7cb816364a9",
   "metadata": {},
   "outputs": [],
   "source": [
    "import pydbgen\n",
    "\n",
    "class pydb:\n",
    "    def __init__(self, dbname, dbtype):\n",
    "        self.dbname = dbname\n",
    "        self.dbtype = dbtype\n",
    "\n",
    "    def gen_data_series(self, dtype):\n",
    "        self.dtype = dtype\n",
    "        data_series = pydbgen.pydb(dtype)\n",
    "        return data_series\n",
    "\n",
    "    def gen_dataframe(self, columns, rows):\n",
    "        self.columns = columns\n",
    "        self.rows = rows\n",
    "        data_frame = pydbgen.pydb(rows, columns)\n",
    "        return data_frame\n",
    "\n",
    "    def gen_table(self, name, columns):\n",
    "        self.name = name\n",
    "        self.columns = columns\n",
    "        data_table = pydbgen.pydb(name, columns)\n",
    "        return data_table\n",
    "    \n",
    "    def gen_excel(self, dbname, tables, location):\n",
    "        self.dbname = dbname\n",
    "        self.tables = tables\n",
    "        self.location = location\n",
    "        data_excel = pydbgen.pydb(dbname, tables, location)\n",
    "        return data_excel\n"
   ]
  },
  {
   "cell_type": "code",
   "execution_count": 5,
   "id": "94858ec2-1e76-4c8d-b665-31d15f8c21f6",
   "metadata": {},
   "outputs": [
    {
     "ename": "AttributeError",
     "evalue": "module 'pydbgen' has no attribute 'pydb'",
     "output_type": "error",
     "traceback": [
      "\u001b[0;31m---------------------------------------------------------------------------\u001b[0m",
      "\u001b[0;31mAttributeError\u001b[0m                            Traceback (most recent call last)",
      "Input \u001b[0;32mIn [5]\u001b[0m, in \u001b[0;36m<cell line: 6>\u001b[0;34m()\u001b[0m\n\u001b[1;32m      3\u001b[0m pydb1 \u001b[38;5;241m=\u001b[39m pydb(\u001b[38;5;124m'\u001b[39m\u001b[38;5;124mmydatabase\u001b[39m\u001b[38;5;124m'\u001b[39m, \u001b[38;5;124m'\u001b[39m\u001b[38;5;124mpostgres\u001b[39m\u001b[38;5;124m'\u001b[39m)\n\u001b[1;32m      5\u001b[0m \u001b[38;5;66;03m## Create a data series below\u001b[39;00m\n\u001b[0;32m----> 6\u001b[0m ds1 \u001b[38;5;241m=\u001b[39m \u001b[43mpydb1\u001b[49m\u001b[38;5;241;43m.\u001b[39;49m\u001b[43mgen_data_series\u001b[49m\u001b[43m(\u001b[49m\u001b[38;5;124;43m'\u001b[39;49m\u001b[38;5;124;43mbool\u001b[39;49m\u001b[38;5;124;43m'\u001b[39;49m\u001b[43m)\u001b[49m\n\u001b[1;32m      8\u001b[0m \u001b[38;5;66;03m## Create a data frame below\u001b[39;00m\n\u001b[1;32m      9\u001b[0m df1 \u001b[38;5;241m=\u001b[39m pydb1\u001b[38;5;241m.\u001b[39mgen_dataframe(\u001b[38;5;241m5\u001b[39m, \u001b[38;5;241m4\u001b[39m)\n",
      "Input \u001b[0;32mIn [4]\u001b[0m, in \u001b[0;36mpydb.gen_data_series\u001b[0;34m(self, dtype)\u001b[0m\n\u001b[1;32m      8\u001b[0m \u001b[38;5;28;01mdef\u001b[39;00m \u001b[38;5;21mgen_data_series\u001b[39m(\u001b[38;5;28mself\u001b[39m, dtype):\n\u001b[1;32m      9\u001b[0m     \u001b[38;5;28mself\u001b[39m\u001b[38;5;241m.\u001b[39mdtype \u001b[38;5;241m=\u001b[39m dtype\n\u001b[0;32m---> 10\u001b[0m     data_series \u001b[38;5;241m=\u001b[39m \u001b[43mpydbgen\u001b[49m\u001b[38;5;241;43m.\u001b[39;49m\u001b[43mpydb\u001b[49m(dtype)\n\u001b[1;32m     11\u001b[0m     \u001b[38;5;28;01mreturn\u001b[39;00m data_series\n",
      "\u001b[0;31mAttributeError\u001b[0m: module 'pydbgen' has no attribute 'pydb'"
     ]
    }
   ],
   "source": [
    "## Create a pydb object below\n",
    "\n",
    "pydb1 = pydb('mydatabase', 'postgres')\n",
    "\n",
    "## Create a data series below\n",
    "ds1 = pydb1.gen_data_series('bool')\n",
    "\n",
    "## Create a data frame below\n",
    "df1 = pydb1.gen_dataframe(5, 4)\n",
    "\n",
    "## Create a data table below\n",
    "tb1 = pydb1.gen_table('mytable', {'firstname': 'str', 'lastname': 'str', 'age': 'int', 'sex': 'str', 'ratings': 'float', 'date': 'date'})\n",
    "\n",
    "## Create an Excel file below\n",
    "ex1 = pydb1.gen_excel('mydatabase', {'firstname': 'str', 'lastname': 'str', 'age': 'int', 'sex': 'str', 'ratings': 'float', 'date': 'date'}, 'C:\\\\Users\\\\user')\n",
    "\n",
    "## Check your work\n",
    "\n",
    "print('Data series: {}, Data frame: {}, Data table: {}, Excel file: {}'.format(ds1, df1, tb1, ex1))\n",
    "\n",
    "## Check your output\n",
    "\n",
    "print(ds1[:10])\n",
    "\n",
    "print(df1[:5])\n",
    "\n",
    "print(tb1[:4])\n",
    "\n",
    "print(ex1)"
   ]
  },
  {
   "cell_type": "code",
   "execution_count": null,
   "id": "d55b03bd-cf86-4cfb-b2a1-35237cb40880",
   "metadata": {},
   "outputs": [],
   "source": []
  }
 ],
 "metadata": {
  "kernelspec": {
   "display_name": "Python 3 (ipykernel)",
   "language": "python",
   "name": "python3"
  },
  "language_info": {
   "codemirror_mode": {
    "name": "ipython",
    "version": 3
   },
   "file_extension": ".py",
   "mimetype": "text/x-python",
   "name": "python",
   "nbconvert_exporter": "python",
   "pygments_lexer": "ipython3",
   "version": "3.10.4"
  },
  "widgets": {
   "application/vnd.jupyter.widget-state+json": {
    "state": {},
    "version_major": 2,
    "version_minor": 0
   }
  }
 },
 "nbformat": 4,
 "nbformat_minor": 5
}

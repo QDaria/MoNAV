{
 "cells": [
  {
   "cell_type": "markdown",
   "id": "4edc16cd-cb46-4f9d-bd27-7d923ff736ac",
   "metadata": {},
   "source": [
    "# Plaitpy"
   ]
  },
  {
   "cell_type": "code",
   "execution_count": 1,
   "id": "89015e56-e5e1-4e61-bb5e-207924986cf2",
   "metadata": {},
   "outputs": [],
   "source": [
    "import plaitpy"
   ]
  },
  {
   "cell_type": "code",
   "execution_count": null,
   "id": "29023975-7a78-4330-9bb5-3423d05d1487",
   "metadata": {},
   "outputs": [],
   "source": [
    "fig, ax = plt.subplots(figsize=(12,3))\n",
    "t = plaitpy.Template(\"./data/stocks.yml\")\n",
    "data = t.gen_records(100)\n",
    "timeseries_df = pd.concat([pd.DataFrame(d, index=[1]) for d in data]).reset_index().drop('index', axis=1).sort_values(by='timestamp')\n",
    "timeseries_df\n",
    "ax.plot( timeseries_df['timestamp'], timeseries_df['val1'], label='val 1')\n",
    "ax.plot( timeseries_df['timestamp'], timeseries_df['val2'], label='val 2')\n",
    "ax.plot( timeseries_df['timestamp'], timeseries_df['val3'], label='val 3')\n",
    "ax.legend()\n",
    "plt.show()"
   ]
  }
 ],
 "metadata": {
  "kernelspec": {
   "display_name": "Python 3 (ipykernel)",
   "language": "python",
   "name": "python3"
  },
  "language_info": {
   "codemirror_mode": {
    "name": "ipython",
    "version": 3
   },
   "file_extension": ".py",
   "mimetype": "text/x-python",
   "name": "python",
   "nbconvert_exporter": "python",
   "pygments_lexer": "ipython3",
   "version": "3.10.4"
  },
  "widgets": {
   "application/vnd.jupyter.widget-state+json": {
    "state": {},
    "version_major": 2,
    "version_minor": 0
   }
  }
 },
 "nbformat": 4,
 "nbformat_minor": 5
}

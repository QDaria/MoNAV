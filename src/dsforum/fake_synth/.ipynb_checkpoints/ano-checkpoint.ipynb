{
 "cells": [
  {
   "cell_type": "markdown",
   "id": "ffbb93b3-4175-4721-94e7-986239819869",
   "metadata": {},
   "source": [
    "# Anonymizers "
   ]
  },
  {
   "cell_type": "markdown",
   "id": "e2f573be-1fbc-4d9d-9ea3-d21b7aabff72",
   "metadata": {},
   "source": [
    "`pip install presidio_analyzer`"
   ]
  },
  {
   "cell_type": "code",
   "execution_count": null,
   "id": "b3c3a134-76cb-4b22-9d8c-3f2e4e9dc935",
   "metadata": {},
   "outputs": [],
   "source": []
  }
 ],
 "metadata": {
  "kernelspec": {
   "display_name": "Python 3 (ipykernel)",
   "language": "python",
   "name": "python3"
  },
  "language_info": {
   "codemirror_mode": {
    "name": "ipython",
    "version": 3
   },
   "file_extension": ".py",
   "mimetype": "text/x-python",
   "name": "python",
   "nbconvert_exporter": "python",
   "pygments_lexer": "ipython3",
   "version": "3.10.4"
  },
  "widgets": {
   "application/vnd.jupyter.widget-state+json": {
    "state": {},
    "version_major": 2,
    "version_minor": 0
   }
  }
 },
 "nbformat": 4,
 "nbformat_minor": 5
}

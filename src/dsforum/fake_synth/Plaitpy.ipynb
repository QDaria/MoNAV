{
 "cells": [
  {
   "cell_type": "markdown",
   "id": "4edc16cd-cb46-4f9d-bd27-7d923ff736ac",
   "metadata": {},
   "source": [
    "# Plaitpy"
   ]
  },
  {
   "cell_type": "code",
   "execution_count": 1,
   "id": "89015e56-e5e1-4e61-bb5e-207924986cf2",
   "metadata": {},
   "outputs": [
    {
     "ename": "ModuleNotFoundError",
     "evalue": "No module named 'jupyter_manim'",
     "output_type": "error",
     "traceback": [
      "\u001b[0;31m---------------------------------------------------------------------------\u001b[0m",
      "\u001b[0;31mModuleNotFoundError\u001b[0m                       Traceback (most recent call last)",
      "Input \u001b[0;32mIn [1]\u001b[0m, in \u001b[0;36m<cell line: 3>\u001b[0;34m()\u001b[0m\n\u001b[1;32m      1\u001b[0m \u001b[38;5;28;01mimport\u001b[39;00m \u001b[38;5;21;01mplaitpy\u001b[39;00m\n\u001b[1;32m      2\u001b[0m \u001b[38;5;28;01mimport\u001b[39;00m \u001b[38;5;21;01mmatplotlib\u001b[39;00m\u001b[38;5;21;01m.\u001b[39;00m\u001b[38;5;21;01mpyplot\u001b[39;00m \u001b[38;5;28;01mas\u001b[39;00m \u001b[38;5;21;01mplt\u001b[39;00m\n\u001b[0;32m----> 3\u001b[0m \u001b[38;5;28;01mimport\u001b[39;00m \u001b[38;5;21;01mjupyter_manim\u001b[39;00m\n",
      "\u001b[0;31mModuleNotFoundError\u001b[0m: No module named 'jupyter_manim'"
     ]
    }
   ],
   "source": [
    "import plaitpy\n",
    "import matplotlib.pyplot as plt\n",
    "import jupyter_manim"
   ]
  },
  {
   "cell_type": "code",
   "execution_count": 2,
   "id": "79d8e502-2680-45c6-a7a1-3a747957ffc6",
   "metadata": {},
   "outputs": [
    {
     "ename": "ModuleNotFoundError",
     "evalue": "No module named 'manim'",
     "output_type": "error",
     "traceback": [
      "\u001b[0;31m---------------------------------------------------------------------------\u001b[0m",
      "\u001b[0;31mModuleNotFoundError\u001b[0m                       Traceback (most recent call last)",
      "Input \u001b[0;32mIn [2]\u001b[0m, in \u001b[0;36m<cell line: 1>\u001b[0;34m()\u001b[0m\n\u001b[0;32m----> 1\u001b[0m \u001b[38;5;28;01mimport\u001b[39;00m \u001b[38;5;21;01mmanim\u001b[39;00m\n",
      "\u001b[0;31mModuleNotFoundError\u001b[0m: No module named 'manim'"
     ]
    }
   ],
   "source": [
    "import manim"
   ]
  },
  {
   "cell_type": "code",
   "execution_count": 3,
   "id": "792bdc78-05b7-4d79-8b64-e5da7624fc58",
   "metadata": {},
   "outputs": [
    {
     "name": "stdout",
     "output_type": "stream",
     "text": [
      "/usr/local/bin/python3\n"
     ]
    }
   ],
   "source": [
    "!which python3"
   ]
  },
  {
   "cell_type": "code",
   "execution_count": null,
   "id": "550b536a-a413-41c0-8aec-1c71b5c0642c",
   "metadata": {},
   "outputs": [],
   "source": [
    "pipx install jupyter_manim"
   ]
  },
  {
   "cell_type": "code",
   "execution_count": 4,
   "id": "29023975-7a78-4330-9bb5-3423d05d1487",
   "metadata": {},
   "outputs": [
    {
     "name": "stderr",
     "output_type": "stream",
     "text": [
      "/Library/Frameworks/Python.framework/Versions/3.10/lib/python3.10/site-packages/plaitpy/template.py:62: SyntaxWarning: \"is not\" with a literal. Did you mean \"!=\"?\n",
      "  if r[field] is not None and r[field] is not \"\":\n",
      "/Library/Frameworks/Python.framework/Versions/3.10/lib/python3.10/site-packages/plaitpy/template.py:62: SyntaxWarning: \"is not\" with a literal. Did you mean \"!=\"?\n",
      "  if r[field] is not None and r[field] is not \"\":\n",
      "/Library/Frameworks/Python.framework/Versions/3.10/lib/python3.10/site-packages/plaitpy/template.py:62: SyntaxWarning: \"is not\" with a literal. Did you mean \"!=\"?\n",
      "  if r[field] is not None and r[field] is not \"\":\n",
      "/Library/Frameworks/Python.framework/Versions/3.10/lib/python3.10/site-packages/plaitpy/template.py:62: SyntaxWarning: \"is not\" with a literal. Did you mean \"!=\"?\n",
      "  if r[field] is not None and r[field] is not \"\":\n"
     ]
    },
    {
     "ename": "Exception",
     "evalue": "No such file: ./data/stocks.yml in: dict_keys(['/Library/Frameworks/Python.framework/Versions/3.10/lib/python3.10/site-packages/plaitpy', '/Library/Frameworks/Python.framework/Versions/3.10/lib/python3.10/site-packages', '/Users/m0/Documents/GitHub/MoNAV/src/dsforum/fake_synth/data'])",
     "output_type": "error",
     "traceback": [
      "\u001b[0;31m---------------------------------------------------------------------------\u001b[0m",
      "\u001b[0;31mException\u001b[0m                                 Traceback (most recent call last)",
      "Input \u001b[0;32mIn [4]\u001b[0m, in \u001b[0;36m<cell line: 2>\u001b[0;34m()\u001b[0m\n\u001b[1;32m      1\u001b[0m fig, ax \u001b[38;5;241m=\u001b[39m plt\u001b[38;5;241m.\u001b[39msubplots(figsize\u001b[38;5;241m=\u001b[39m(\u001b[38;5;241m12\u001b[39m,\u001b[38;5;241m3\u001b[39m))\n\u001b[0;32m----> 2\u001b[0m t \u001b[38;5;241m=\u001b[39m \u001b[43mplaitpy\u001b[49m\u001b[38;5;241;43m.\u001b[39;49m\u001b[43mTemplate\u001b[49m\u001b[43m(\u001b[49m\u001b[38;5;124;43m\"\u001b[39;49m\u001b[38;5;124;43m./data/stocks.yml\u001b[39;49m\u001b[38;5;124;43m\"\u001b[39;49m\u001b[43m)\u001b[49m\n\u001b[1;32m      3\u001b[0m data \u001b[38;5;241m=\u001b[39m t\u001b[38;5;241m.\u001b[39mgen_records(\u001b[38;5;241m100\u001b[39m)\n\u001b[1;32m      4\u001b[0m timeseries_df \u001b[38;5;241m=\u001b[39m pd\u001b[38;5;241m.\u001b[39mconcat([pd\u001b[38;5;241m.\u001b[39mDataFrame(d, index\u001b[38;5;241m=\u001b[39m[\u001b[38;5;241m1\u001b[39m]) \u001b[38;5;28;01mfor\u001b[39;00m d \u001b[38;5;129;01min\u001b[39;00m data])\u001b[38;5;241m.\u001b[39mreset_index()\u001b[38;5;241m.\u001b[39mdrop(\u001b[38;5;124m'\u001b[39m\u001b[38;5;124mindex\u001b[39m\u001b[38;5;124m'\u001b[39m, axis\u001b[38;5;241m=\u001b[39m\u001b[38;5;241m1\u001b[39m)\u001b[38;5;241m.\u001b[39msort_values(by\u001b[38;5;241m=\u001b[39m\u001b[38;5;124m'\u001b[39m\u001b[38;5;124mtimestamp\u001b[39m\u001b[38;5;124m'\u001b[39m)\n",
      "File \u001b[0;32m/Library/Frameworks/Python.framework/Versions/3.10/lib/python3.10/site-packages/plaitpy/template.py:188\u001b[0m, in \u001b[0;36mTemplate.__init__\u001b[0;34m(self, template, overrides, hidden, depth, quiet)\u001b[0m\n\u001b[1;32m    184\u001b[0m         \u001b[38;5;28mself\u001b[39m\u001b[38;5;241m.\u001b[39mdebug(\u001b[38;5;124m\"\u001b[39m\u001b[38;5;124mADDED OVERRIDE \u001b[39m\u001b[38;5;132;01m%s\u001b[39;00m\u001b[38;5;124m - \u001b[39m\u001b[38;5;132;01m%s\u001b[39;00m\u001b[38;5;124m\"\u001b[39m \u001b[38;5;241m%\u001b[39m (template, o))\n\u001b[1;32m    185\u001b[0m         \u001b[38;5;28mself\u001b[39m\u001b[38;5;241m.\u001b[39moverrides[o] \u001b[38;5;241m=\u001b[39m overrides[o]\n\u001b[0;32m--> 188\u001b[0m \u001b[38;5;28;43mself\u001b[39;49m\u001b[38;5;241;43m.\u001b[39;49m\u001b[43msetup_template\u001b[49m\u001b[43m(\u001b[49m\u001b[43mtemplate\u001b[49m\u001b[43m)\u001b[49m\n\u001b[1;32m    189\u001b[0m all_keys \u001b[38;5;241m=\u001b[39m {}\n\u001b[1;32m    190\u001b[0m \u001b[38;5;28;01mfor\u001b[39;00m k \u001b[38;5;129;01min\u001b[39;00m \u001b[38;5;28mself\u001b[39m\u001b[38;5;241m.\u001b[39mfield_data:\n",
      "File \u001b[0;32m/Library/Frameworks/Python.framework/Versions/3.10/lib/python3.10/site-packages/plaitpy/template.py:271\u001b[0m, in \u001b[0;36mTemplate.setup_template\u001b[0;34m(self, template)\u001b[0m\n\u001b[1;32m    268\u001b[0m             \u001b[38;5;28;01mraise\u001b[39;00m(e)\n\u001b[1;32m    270\u001b[0m \u001b[38;5;28;01melif\u001b[39;00m template\u001b[38;5;241m.\u001b[39mendswith(\u001b[38;5;124m\"\u001b[39m\u001b[38;5;124m.yaml\u001b[39m\u001b[38;5;124m\"\u001b[39m) \u001b[38;5;129;01mor\u001b[39;00m template\u001b[38;5;241m.\u001b[39mendswith(\u001b[38;5;124m\"\u001b[39m\u001b[38;5;124m.yml\u001b[39m\u001b[38;5;124m\"\u001b[39m):\n\u001b[0;32m--> 271\u001b[0m     \u001b[38;5;28;01mwith\u001b[39;00m \u001b[43mreadfile\u001b[49m\u001b[43m(\u001b[49m\u001b[43mtemplate\u001b[49m\u001b[43m)\u001b[49m \u001b[38;5;28;01mas\u001b[39;00m f:\n\u001b[1;32m    272\u001b[0m         data \u001b[38;5;241m=\u001b[39m f\u001b[38;5;241m.\u001b[39mread()\n\u001b[1;32m    273\u001b[0m \u001b[38;5;28;01melse\u001b[39;00m:\n",
      "File \u001b[0;32m/Library/Frameworks/Python.framework/Versions/3.10/lib/python3.10/site-packages/plaitpy/helpers.py:182\u001b[0m, in \u001b[0;36mreadfile\u001b[0;34m(filename, mode)\u001b[0m\n\u001b[1;32m    179\u001b[0m     \u001b[38;5;28;01mif\u001b[39;00m os\u001b[38;5;241m.\u001b[39mpath\u001b[38;5;241m.\u001b[39mexists(fname):\n\u001b[1;32m    180\u001b[0m         \u001b[38;5;28;01mreturn\u001b[39;00m \u001b[38;5;28mopen\u001b[39m(fname, mode)\n\u001b[0;32m--> 182\u001b[0m \u001b[38;5;28;01mraise\u001b[39;00m \u001b[38;5;167;01mException\u001b[39;00m(\u001b[38;5;124m\"\u001b[39m\u001b[38;5;124mNo such file: \u001b[39m\u001b[38;5;132;01m%s\u001b[39;00m\u001b[38;5;124m in: \u001b[39m\u001b[38;5;132;01m%s\u001b[39;00m\u001b[38;5;124m\"\u001b[39m \u001b[38;5;241m%\u001b[39m (filename, PATHS\u001b[38;5;241m.\u001b[39mkeys()))\n",
      "\u001b[0;31mException\u001b[0m: No such file: ./data/stocks.yml in: dict_keys(['/Library/Frameworks/Python.framework/Versions/3.10/lib/python3.10/site-packages/plaitpy', '/Library/Frameworks/Python.framework/Versions/3.10/lib/python3.10/site-packages', '/Users/m0/Documents/GitHub/MoNAV/src/dsforum/fake_synth/data'])"
     ]
    },
    {
     "data": {
      "image/png": "[encoded data removed]",
      "text/plain": [
       "<Figure size 864x216 with 1 Axes>"
      ]
     },
     "metadata": {
      "needs_background": "light"
     },
     "output_type": "display_data"
    }
   ],
   "source": [
    "fig, ax = plt.subplots(figsize=(12,3))\n",
    "t = plaitpy.Template(\"./data/stocks.yml\")\n",
    "data = t.gen_records(100)\n",
    "timeseries_df = pd.concat([pd.DataFrame(d, index=[1]) for d in data]).reset_index().drop('index', axis=1).sort_values(by='timestamp')\n",
    "timeseries_df\n",
    "ax.plot( timeseries_df['timestamp'], timeseries_df['val1'], label='val 1')\n",
    "ax.plot( timeseries_df['timestamp'], timeseries_df['val2'], label='val 2')\n",
    "ax.plot( timeseries_df['timestamp'], timeseries_df['val3'], label='val 3')\n",
    "ax.legend()\n",
    "plt.show()"
   ]
  },
  {
   "cell_type": "code",
   "execution_count": null,
   "id": "7e00bb18-bf49-4ab4-8c0f-6b33b49dd435",
   "metadata": {},
   "outputs": [],
   "source": [
    "## plait.py\n",
    "\n",
    "plait.py is a program for generating fake data from composable yaml templates.\n",
    "\n",
    "The idea behind plait.py is that it should be easy to model fake data that looks real. Currently, many fake data generators model their data as a collection of [IID](https://en.wikipedia.org/wiki/Independent_and_identically_distributed_random_variables) variables; with plait.py we can stitch together those variables into a more coherent model.\n",
    "\n",
    "### features\n",
    "\n",
    "declarative syntax\n",
    "\n",
    "use basic [faker.rb](https://github.com/stympy/faker) fields with #{} interpolators\n",
    "\n",
    "sample and join data from CSV files\n",
    "\n",
    "lambda expressions, case and mixture fields\n",
    "\n",
    "nested and composable templates\n",
    "\n",
    "static variables and hidden fields\n",
    "\n",
    "### how its different\n",
    "\n",
    "some specific examples of what plait.py can do:\n",
    "\n",
    "model realistic populations using census data\n",
    "\n",
    "create a taxi trip dataset with a cost model based on geodistance\n",
    "\n",
    "add seasonal patterns (daily, weekly, etc) to data\n",
    "\n",
    "create realistic zipcodes by state, city or region\n",
    "\n",
    "### future direction\n",
    "\n",
    "Currently, plait.py models independent markov processes - future investigation into modeling processes that can interact with each other is needed.\n",
    "\n",
    "If you have ideas on features to add, open an issue - Feedback is appreciated!\n",
    "\n",
    "## usage\n",
    "\n",
    "### installation\n",
    "\n",
    "# install with python pip install plaitpy\n",
    "\n",
    "# or with pypy pypy-pip install plaitpy\n",
    "\n",
    "### generating records\n",
    "\n",
    "specify a template as a yaml file, then generate records from that yaml file.\n",
    "\n",
    "# a simple example (if cloning plait.py repo) python main.py templates/timestamp/uniform.yaml\n",
    "\n",
    "# if plait.py is installed via pip plait.py templates/timestamp/uniform.yaml\n",
    "\n",
    "### looking up faker fields\n",
    "\n",
    "plait.py also simplifies looking up faker fields:\n",
    "\n",
    "# list faker namespaces plait.py –list # lookup faker namespaces plait.py –lookup name\n",
    "\n",
    "# lookup faker keys # (-ll is short for –lookup) plait.py –ll name.suffix\n",
    "\n",
    "## documentation\n",
    "\n",
    "### yaml file commands\n",
    "\n",
    "see docs/FORMAT.md\n",
    "\n",
    "### datasets\n",
    "\n",
    "see docs/EXAMPLES.md\n",
    "\n",
    "also see templates/ dir"
   ]
  }
 ],
 "metadata": {
  "kernelspec": {
   "display_name": "Python 3 (ipykernel)",
   "language": "python",
   "name": "python3"
  },
  "language_info": {
   "codemirror_mode": {
    "name": "ipython",
    "version": 3
   },
   "file_extension": ".py",
   "mimetype": "text/x-python",
   "name": "python",
   "nbconvert_exporter": "python",
   "pygments_lexer": "ipython3",
   "version": "3.10.4"
  },
  "widgets": {
   "application/vnd.jupyter.widget-state+json": {
    "state": {},
    "version_major": 2,
    "version_minor": 0
   }
  }
 },
 "nbformat": 4,
 "nbformat_minor": 5
}
